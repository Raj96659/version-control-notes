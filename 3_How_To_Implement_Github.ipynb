{
 "cells": [
  {
   "cell_type": "markdown",
   "id": "178b46c8-5c83-42da-9d2e-7f6bff3df71f",
   "metadata": {},
   "source": [
    "# How to Implement GitHub\n",
    "\n",
    "<h3>Step 1: Create a GitHub Account</h3>\n",
    "\n",
    "Go to GitHub\n",
    "- → Sign up → Complete setup.\n",
    "\n",
    "<h3>Step 2: Create a Repository</h3>\n",
    "\n",
    "- Click New repository\n",
    "\n",
    "- Name your repo (my_project)\n",
    "\n",
    "- Add description (optional)\n",
    "\n",
    "- Initialize with a README (optional)\n",
    "\n",
    "- Click Create repository\n",
    "\n",
    "<h3>Step 3: Link Local Repo to GitHub</h3>\n",
    "\n",
    "### Inside your local project folder\n",
    "- git init\n",
    "- git add .\n",
    "- git commit -m \"Initial commit\"\n",
    "\n",
    "### Add GitHub repo as remote\n",
    "- git remote add origin https://github.com/username/my_project.git\n",
    "\n",
    "### Push to GitHub\n",
    "- git branch -M main\n",
    "- git push -u origin main\n",
    "\n",
    "<p>Now your code is online on GitHub.</p>\n",
    "\n",
    "<h3>Step 4: Clone a Repository</h3>\n",
    "\n",
    "- git clone https://github.com/username/my_project.git\n",
    "\n",
    "<h3>Step 5: Work with Branches and Pull Requests</h3>\n",
    "\n",
    "### Create a new branch for feature\n",
    "- git switch -c feature1\n",
    "\n",
    "### Make changes → add → commit\n",
    "- git add .\n",
    "- git commit -m \"Add new feature\"\n",
    "\n",
    "### Push branch to GitHub\n",
    "- git push -u origin feature1\n",
    "\n",
    "<p>On GitHub: Go to your repo → Compare & Pull Request → Merge feature branch to main.</p>\n",
    "\n",
    "<h3>Step 6: Pull Latest Changes</h3>\n",
    "\n",
    "- git pull origin main\n",
    "\n",
    "<P>Updates your local repo with changes from GitHub.</P>"
   ]
  },
  {
   "cell_type": "code",
   "execution_count": null,
   "id": "28e2de01-8728-4355-ba34-12f9277e7258",
   "metadata": {},
   "outputs": [],
   "source": []
  }
 ],
 "metadata": {
  "kernelspec": {
   "display_name": "Python 3 (ipykernel)",
   "language": "python",
   "name": "python3"
  },
  "language_info": {
   "codemirror_mode": {
    "name": "ipython",
    "version": 3
   },
   "file_extension": ".py",
   "mimetype": "text/x-python",
   "name": "python",
   "nbconvert_exporter": "python",
   "pygments_lexer": "ipython3",
   "version": "3.12.7"
  }
 },
 "nbformat": 4,
 "nbformat_minor": 5
}
