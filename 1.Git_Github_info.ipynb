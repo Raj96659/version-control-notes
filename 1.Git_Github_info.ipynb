{
 "cells": [
  {
   "cell_type": "markdown",
   "id": "eab945e3-67a5-4130-ac12-d635d876ffdb",
   "metadata": {},
   "source": [
    "# What is Git?\n",
    "\n",
    "- Git is a version control system (VCS).\n",
    "\n",
    "- It helps you track changes in your code or files over time.\n",
    "\n",
    "- You can go back to previous versions if something breaks.\n",
    "\n",
    "- Multiple people can work on the same project without overwriting each other's work.\n",
    "\n",
    "<p>Analogy: Think of Git like a save history in a game. Every time you save, you can later go back to that point.</p>"
   ]
  },
  {
   "cell_type": "markdown",
   "id": "67f8c476-e0b5-4faa-98ed-396f74bf4e9f",
   "metadata": {},
   "source": [
    "# What is GitHub?\n",
    "\n",
    "- GitHub is a cloud platform to store your Git repositories online.\n",
    "\n",
    "- It allows collaboration — multiple people can work on the same project.\n",
    "\n",
    "- You can track issues, pull requests, and versions.\n",
    "\n",
    "- Think of GitHub as Google Drive for code with superpowers.\n",
    "\n",
    "## Analogy:\n",
    "\n",
    "- Git = saving versions on your PC\n",
    "\n",
    "- GitHub = saving those versions online and sharing them with friends/team"
   ]
  },
  {
   "cell_type": "markdown",
   "id": "3f06f50f-9472-47c9-a686-26d91e384de2",
   "metadata": {},
   "source": [
    "# How GitHub Works with Git\n",
    "\n",
    "- Local Repository (Git) – Your project on your computer.\n",
    "\n",
    "- Remote Repository (GitHub) – Your project stored online.\n",
    "\n",
    "- Push – Send changes from local to remote.\n",
    "\n",
    "- Pull – Get the latest changes from remote to local.\n",
    "\n",
    "- Clone – Copy a repo from GitHub to your local machine."
   ]
  },
  {
   "cell_type": "code",
   "execution_count": null,
   "id": "04508375-5bda-4dc3-af01-9d3f59a64b2e",
   "metadata": {},
   "outputs": [],
   "source": []
  },
  {
   "cell_type": "code",
   "execution_count": null,
   "id": "29b1d489-5661-482a-b49c-abccfec62f88",
   "metadata": {},
   "outputs": [],
   "source": []
  }
 ],
 "metadata": {
  "kernelspec": {
   "display_name": "Python 3 (ipykernel)",
   "language": "python",
   "name": "python3"
  },
  "language_info": {
   "codemirror_mode": {
    "name": "ipython",
    "version": 3
   },
   "file_extension": ".py",
   "mimetype": "text/x-python",
   "name": "python",
   "nbconvert_exporter": "python",
   "pygments_lexer": "ipython3",
   "version": "3.12.7"
  }
 },
 "nbformat": 4,
 "nbformat_minor": 5
}
