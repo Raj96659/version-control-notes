{
 "cells": [
  {
   "cell_type": "markdown",
   "id": "6870f997-ff8e-4e00-aa54-7bef1b20e960",
   "metadata": {},
   "source": [
    "# Git Setup\n",
    "\n",
    "<h4>Configuring user information used across all local repositories</h4>\n",
    "\n",
    "- git config --global user.name “[firstname lastname]”\n",
    "<p>set a name that is identifiable for credit when review version history</p>\n",
    "\n",
    "- git config --global user.email “[valid-email]”\n",
    "<p>set an email address that will be associated with each history marker</p>\n",
    "\n",
    "- git config --list\n",
    "<p>To see the list of credentials</p>"
   ]
  },
  {
   "cell_type": "markdown",
   "id": "33f0e8da-6a0a-4c75-a854-8a8250960fe4",
   "metadata": {},
   "source": [
    "# Clone a Repository\n",
    "\n",
    "- git clone https://github.com/username/my_project.git\n",
    "\n",
    "# Check Status\n",
    "\n",
    "- git status\n",
    "<p>Displays the state of code</p>\n",
    "\n",
    "<h4>Types of Status :</h4>\n",
    "\n",
    "- untracked : new files that git doesn't yet track \n",
    "- modified : changed\n",
    "- staged : file is ready to be commited\n",
    "- unmodified : unchanged"
   ]
  },
  {
   "cell_type": "markdown",
   "id": "701ca1f8-530a-40f7-86a8-7b7c3230d969",
   "metadata": {},
   "source": [
    "# Change Directory\n",
    "\n",
    "- cd foldername\n",
    "<p>If you want to go from outside folder to inside subfolder</p>\n",
    "\n",
    "- cd ..\n",
    "<p>To go outside the folder</p>\n",
    "\n",
    "- mkdir folder_name\n",
    "<p>To create new folder</p>\n",
    "\n",
    "- ls\n",
    "<p>To see the list of files in folder</p>\n",
    "\n",
    "- ls -a\n",
    "- <p>To see Hidden files in folder</p>"
   ]
  },
  {
   "cell_type": "markdown",
   "id": "772649cb-7d04-44a3-825e-b9ba859500aa",
   "metadata": {},
   "source": [
    "# Add Files\n",
    "- git add file1.txt\n",
    "<p>adds new or changed files in your working directory to the Git staging area.</p>\n",
    "  \n",
    "# Or add all files\n",
    "- git add .\n",
    "  \n",
    "<P>Stages files to be committed.</P>"
   ]
  },
  {
   "cell_type": "markdown",
   "id": "ef6b91aa-683f-492f-ba03-8e9cbe3cce60",
   "metadata": {},
   "source": [
    "# Commit Changes\n",
    "\n",
    "- git commit -m \"Initial commit\"\n",
    "\n",
    "<p>Saves a snapshot of staged changes with a message.</p>\n",
    "<p>First add files and then commit</p>"
   ]
  },
  {
   "cell_type": "markdown",
   "id": "6d5bb00f-13c5-4ba6-b5a6-a04795d41d77",
   "metadata": {},
   "source": [
    "# Push Command\n",
    "\n",
    "- git push <remote-name> <branch-name>\n",
    "- git push origin main\n",
    "  <p></p>\n",
    "  <p>push - upload local repo content to remote repo</p>\n",
    "  <p>remote-name → usually origin (this is the name Git gives to your GitHub repo by default).</p>\n",
    "  <p>branch-name → like main, master, feature1, etc.</p>\n",
    "\n",
    "# Pull Command\n",
    "\n",
    "- git pull origin main\n",
    "- used to fetch and download content from remote repo and immediately update the local repo to match the content"
   ]
  },
  {
   "cell_type": "markdown",
   "id": "0b70c68c-5de2-480d-93bb-8af401c2d6c4",
   "metadata": {},
   "source": [
    "# What is git init?\n",
    "\n",
    "git init = initialize a new Git repository.\n",
    "\n",
    "It turns your existing project folder into a Git repository, so Git can start tracking your changes.\n",
    "\n",
    "After running it, Git creates a hidden folder called .git in your project directory. This folder stores all Git history and configurations.\n",
    "\n",
    "- git init\n",
    "\n",
    "- Optional: You can specify a folder name:\n",
    "- git init my_project\n",
    "\n",
    "<p></p>\n",
    "<p>This creates a new folder called my_project and initializes it as a Git repository.</p>\n",
    "\n",
    "## Example Full Workflow\n",
    "\n",
    "### Create folder\n",
    "- mkdir my_project\n",
    "- cd my_project\n",
    "\n",
    "### Initialize Git\n",
    "- git init\n",
    "\n",
    "### Create a file\n",
    "- echo \"Hello Git\" > readme.txt\n",
    "\n",
    "### Stage the file\n",
    "- git add readme.txt\n",
    "\n",
    "### Commit changes\n",
    "- git commit -m \"Initial commit\"\n",
    "\n",
    "### Link to GitHub and push (optional)\n",
    "- git remote add origin https://github.com/username/my_project.git\n",
    "- To verify the remote : git remote -v\n",
    "- To check the branch : git branch\n",
    "- To rename the branch : git branch -M main\n",
    "- git push -u origin main\n",
    "\n"
   ]
  },
  {
   "cell_type": "markdown",
   "id": "47bd80a8-8588-47fd-9f33-19d481bf59a2",
   "metadata": {},
   "source": [
    "<h4>Quick Tip</h4>\n",
    "\n",
    "git init is only done once per project.\n",
    "\n",
    "If you clone a repo from GitHub (git clone), you don’t need git init, because cloning already sets up Git for you."
   ]
  },
  {
   "cell_type": "code",
   "execution_count": null,
   "id": "77f35ef0-37d2-469b-b1bd-8e270b00e823",
   "metadata": {},
   "outputs": [],
   "source": []
  }
 ],
 "metadata": {
  "kernelspec": {
   "display_name": "Python 3 (ipykernel)",
   "language": "python",
   "name": "python3"
  },
  "language_info": {
   "codemirror_mode": {
    "name": "ipython",
    "version": 3
   },
   "file_extension": ".py",
   "mimetype": "text/x-python",
   "name": "python",
   "nbconvert_exporter": "python",
   "pygments_lexer": "ipython3",
   "version": "3.12.7"
  }
 },
 "nbformat": 4,
 "nbformat_minor": 5
}
